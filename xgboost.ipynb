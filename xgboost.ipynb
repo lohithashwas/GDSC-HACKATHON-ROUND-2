{
 "cells": [
  {
   "cell_type": "code",
   "execution_count": 14,
   "id": "1bc052c1-ca2c-440e-a9e1-ac21aabe1c58",
   "metadata": {},
   "outputs": [
    {
     "name": "stdin",
     "output_type": "stream",
     "text": [
      "Enter Heart Rate:  99\n",
      "Enter SpO2:  95\n",
      "Enter Steps:  11416\n",
      "Enter Sleep (hrs):  5.5\n",
      "Enter Stress Level (Low, Moderate, High):  Low\n",
      "Enter Calories Burnt:  439\n",
      "Enter Systolic BP:  127\n",
      "Enter Diastolic BP:  83\n"
     ]
    },
    {
     "name": "stdout",
     "output_type": "stream",
     "text": [
      "Predicted Health Condition: ['Moderate']\n"
     ]
    }
   ],
   "source": [
    "import pandas as pd  # Import pandas for data handling\n",
    "import xgboost as xgb  # Import XGBoost for model training\n",
    "from sklearn.preprocessing import LabelEncoder  # Import LabelEncoder to encode categorical variables\n",
    "\n",
    "# Load dataset from CSV file\n",
    "df = pd.read_csv(\"data.csv\")  # Change the path if needed\n",
    "\n",
    "# ---- DATA PREPROCESSING ----\n",
    "# Convert \"Blood Pressure\" column (formatted as \"120/80\") into separate \"Systolic_BP\" and \"Diastolic_BP\" columns\n",
    "df[['Systolic_BP', 'Diastolic_BP']] = df['Blood Pressure'].str.extract(r'(\\d+)/(\\d+)').astype(float)\n",
    "\n",
    "# Drop the original \"Blood Pressure\" column as it's no longer needed\n",
    "df = df.drop(columns=['Blood Pressure'])\n",
    "\n",
    "# Encode categorical feature \"Stress Level\" (e.g., Low, Moderate, High → 0, 1, 2)\n",
    "label_encoder_stress = LabelEncoder()\n",
    "df['Stress Level'] = label_encoder_stress.fit_transform(df['Stress Level'])\n",
    "\n",
    "# Encode target variable \"Health Condition\" (e.g., Normal, Sedentary, Active → 0, 1, 2)\n",
    "label_encoder_condition = LabelEncoder()\n",
    "df['Health Condition'] = label_encoder_condition.fit_transform(df['Health Condition'])\n",
    "\n",
    "# Define input features (X) and target variable (y)\n",
    "X = df.drop(columns=['Health Condition'])  # Features (all columns except target)\n",
    "y = df['Health Condition']  # Target variable (encoded health condition)\n",
    "\n",
    "# ---- MODEL TRAINING ----\n",
    "# Initialize the XGBoost classifier with optimized hyperparameters\n",
    "model = xgb.XGBClassifier(\n",
    "    n_estimators=30,        # Number of trees (reducing to prevent overfitting)\n",
    "    learning_rate=0.1,      # Learning rate for boosting\n",
    "    max_depth=7,            # Maximum depth of each decision tree\n",
    "    random_state=42,        # Ensures reproducibility of results\n",
    "    subsample=0.8,          # Uses 80% of data per tree to prevent overfitting\n",
    "    colsample_bytree=0.8,   # Uses 80% of features per tree\n",
    "    reg_lambda=1.0,         # L2 regularization to avoid overfitting\n",
    "    eval_metric=\"mlogloss\"  # Log loss metric (default for multi-class classification)\n",
    ")\n",
    "\n",
    "# Train the model on the full dataset\n",
    "model.fit(X, y)\n",
    "\n",
    "# ---- USER INPUT FOR PREDICTION ----\n",
    "# Prompt user to enter health-related data\n",
    "heart_rate = float(input(\"Enter Heart Rate: \"))  # Heart rate in beats per minute\n",
    "spo2 = float(input(\"Enter SpO2: \"))  # Blood oxygen level (percentage)\n",
    "steps = float(input(\"Enter Steps: \"))  # Number of steps taken in a day\n",
    "sleep = float(input(\"Enter Sleep (hrs): \"))  # Number of sleep hours per day\n",
    "stress_level = input(\"Enter Stress Level (Low, Moderate, High): \")  # Categorical input\n",
    "calories_burnt = float(input(\"Enter Calories Burnt: \"))  # Calories burnt in a day\n",
    "systolic_bp = float(input(\"Enter Systolic BP: \"))  # Systolic blood pressure\n",
    "diastolic_bp = float(input(\"Enter Diastolic BP: \"))  # Diastolic blood pressure\n",
    "\n",
    "# Convert \"Stress Level\" input (e.g., \"Moderate\") to encoded form (0,1,2)\n",
    "stress_level_encoded = label_encoder_stress.transform([stress_level])\n",
    "\n",
    "# Create a DataFrame with the user input values\n",
    "new_data = pd.DataFrame({\n",
    "    'Heart Rate': [heart_rate],\n",
    "    'SpO2': [spo2],\n",
    "    'Steps': [steps],\n",
    "    'Sleep': [sleep],\n",
    "    'Stress Level': stress_level_encoded,  # Encoded categorical variable\n",
    "    'Calories Burnt': [calories_burnt],\n",
    "    'Systolic_BP': [systolic_bp],\n",
    "    'Diastolic_BP': [diastolic_bp]\n",
    "})\n",
    "\n",
    "# ---- PREDICT HEALTH CONDITION ----\n",
    "# Predict the health condition based on user input\n",
    "predicted_condition = model.predict(new_data)\n",
    "\n",
    "# Convert the encoded prediction back to the original category (e.g., 0 → \"Sedentary\")\n",
    "print(\"Predicted Health Condition:\", label_encoder_condition.inverse_transform(predicted_condition))\n"
   ]
  },
  {
   "cell_type": "code",
   "execution_count": null,
   "id": "bfe0618e-5ce1-4f53-a64d-e87dd1703cf5",
   "metadata": {},
   "outputs": [],
   "source": []
  }
 ],
 "metadata": {
  "kernelspec": {
   "display_name": "Python 3 (ipykernel)",
   "language": "python",
   "name": "python3"
  },
  "language_info": {
   "codemirror_mode": {
    "name": "ipython",
    "version": 3
   },
   "file_extension": ".py",
   "mimetype": "text/x-python",
   "name": "python",
   "nbconvert_exporter": "python",
   "pygments_lexer": "ipython3",
   "version": "3.12.7"
  }
 },
 "nbformat": 4,
 "nbformat_minor": 5
}
